{
 "cells": [
  {
   "cell_type": "markdown",
   "id": "e3e4528e",
   "metadata": {},
   "source": [
    "# Quiz 1 - Solution"
   ]
  },
  {
   "cell_type": "markdown",
   "id": "2c799c9d",
   "metadata": {},
   "source": [
    "### Numbers\n",
    "Write an equation that uses multiplication, division, an exponent, addition, and subtraction that is equal to **`120.25`**."
   ]
  },
  {
   "cell_type": "code",
   "execution_count": 3,
   "id": "385085ea",
   "metadata": {},
   "outputs": [
    {
     "data": {
      "text/plain": [
       "120.25"
      ]
     },
     "execution_count": 3,
     "metadata": {},
     "output_type": "execute_result"
    }
   ],
   "source": [
    "500 - 400 + (2 ** 2) + (4 * 4) + (100 / 400)"
   ]
  },
  {
   "cell_type": "markdown",
   "id": "9a0d9021",
   "metadata": {},
   "source": [
    "What is the *`type`* of the result of the expression 3 + 1.5 + 4?<br><br>"
   ]
  },
  {
   "cell_type": "code",
   "execution_count": 4,
   "id": "0210f275",
   "metadata": {},
   "outputs": [
    {
     "data": {
      "text/plain": [
       "float"
      ]
     },
     "execution_count": 4,
     "metadata": {},
     "output_type": "execute_result"
    }
   ],
   "source": [
    "type(3 + 1.5 + 4)"
   ]
  },
  {
   "cell_type": "markdown",
   "id": "ccf88448",
   "metadata": {},
   "source": [
    "What would you use to find a number’s square root, as well as its square? "
   ]
  },
  {
   "cell_type": "code",
   "execution_count": 6,
   "id": "ce96baa9",
   "metadata": {},
   "outputs": [
    {
     "data": {
      "text/plain": [
       "2.0"
      ]
     },
     "execution_count": 6,
     "metadata": {},
     "output_type": "execute_result"
    }
   ],
   "source": [
    "# Square root:\n",
    "4 ** 0.5"
   ]
  },
  {
   "cell_type": "code",
   "execution_count": 9,
   "id": "a244badc",
   "metadata": {},
   "outputs": [
    {
     "data": {
      "text/plain": [
       "1024"
      ]
     },
     "execution_count": 9,
     "metadata": {},
     "output_type": "execute_result"
    }
   ],
   "source": [
    "# 2 to the power of 10:\n",
    "2 ** 10"
   ]
  },
  {
   "cell_type": "markdown",
   "id": "34af8351",
   "metadata": {},
   "source": [
    "### Indexing & Slicing"
   ]
  },
  {
   "cell_type": "code",
   "execution_count": 10,
   "id": "1a9b8efa",
   "metadata": {},
   "outputs": [
    {
     "data": {
      "text/plain": [
       "'e'"
      ]
     },
     "execution_count": 10,
     "metadata": {},
     "output_type": "execute_result"
    }
   ],
   "source": [
    "s = 'hello'\n",
    "# Print out 'e' using indexing\n",
    "s[1]"
   ]
  },
  {
   "cell_type": "code",
   "execution_count": 11,
   "id": "4039ae54",
   "metadata": {},
   "outputs": [
    {
     "data": {
      "text/plain": [
       "'o'"
      ]
     },
     "execution_count": 11,
     "metadata": {},
     "output_type": "execute_result"
    }
   ],
   "source": [
    "s ='hello'\n",
    "# Reverse the string using slicing\n",
    "s[-1]"
   ]
  },
  {
   "cell_type": "markdown",
   "id": "ac94faa5",
   "metadata": {},
   "source": [
    "### Lists\n",
    "How many days are in a particular month based on the value of the variable **`month`**? \n",
    "* **Remeber**, indexing starts with zero"
   ]
  },
  {
   "cell_type": "code",
   "execution_count": 12,
   "id": "aaff86bb",
   "metadata": {},
   "outputs": [],
   "source": [
    "month = 8\n",
    "days_in_month = [31,28,31,30,31,30,31,31,30,31,30,31]\n",
    "\n",
    "# use list indexing to determine the number of days in month\n",
    "num_days = days_in_month[month] - 1\n",
    "\n",
    "# print num_days\n"
   ]
  },
  {
   "cell_type": "markdown",
   "id": "afe844b0",
   "metadata": {},
   "source": [
    "### Dictionary\n",
    "Define a Dictionary `population`, that provides information on the world's largest cities.\n",
    "\n",
    "Key: Is the name of a city (a string)\n",
    "Value: Is its population in millions of people.\n",
    "\n",
    "|City|Population (Million)|\n",
    "|:---|:---:|\n",
    "|Shanghai|17.8|\n",
    "|Istanbul|13.3|\n",
    "|Karachi|13.0|\n",
    "|Mumbai|12.5|"
   ]
  },
  {
   "cell_type": "code",
   "execution_count": 15,
   "id": "07ff9a50",
   "metadata": {},
   "outputs": [
    {
     "data": {
      "text/plain": [
       "{'Shanghai': 17.8, 'Istanbul': 13.3, 'Karachi': 13.0, 'Mumbai': 12.5}"
      ]
     },
     "execution_count": 15,
     "metadata": {},
     "output_type": "execute_result"
    }
   ],
   "source": [
    "population = {\"Shanghai\" : 17.8, \"Istanbul\" : 13.3, \"Karachi\" : 13.0, \"Mumbai\" : 12.5}\n",
    "population"
   ]
  },
  {
   "cell_type": "markdown",
   "id": "4ff915a7",
   "metadata": {},
   "source": [
    "1) Grab `Hello` in from the below dictionaries"
   ]
  },
  {
   "cell_type": "code",
   "execution_count": 16,
   "id": "56298b76",
   "metadata": {},
   "outputs": [
    {
     "data": {
      "text/plain": [
       "'hello'"
      ]
     },
     "execution_count": 16,
     "metadata": {},
     "output_type": "execute_result"
    }
   ],
   "source": [
    "d = {'k1':'hello'}\n",
    "# Grab 'hello'\n",
    "d['k1']"
   ]
  },
  {
   "cell_type": "code",
   "execution_count": 17,
   "id": "89204138",
   "metadata": {},
   "outputs": [
    {
     "data": {
      "text/plain": [
       "'hello'"
      ]
     },
     "execution_count": 17,
     "metadata": {},
     "output_type": "execute_result"
    }
   ],
   "source": [
    "d = {'k1':{'k2':'hello'}}\n",
    "# Grab 'hello'\n",
    "d['k1']['k2']"
   ]
  },
  {
   "cell_type": "code",
   "execution_count": 18,
   "id": "2de191ea",
   "metadata": {},
   "outputs": [
    {
     "data": {
      "text/plain": [
       "'hello'"
      ]
     },
     "execution_count": 18,
     "metadata": {},
     "output_type": "execute_result"
    }
   ],
   "source": [
    "# Getting a little tricker\n",
    "d = {'k1':[{'k2':['k3',['hello']]}]}\n",
    "\n",
    "#Grab hello\n",
    "d['k1'][0]['k2'][1][0]\n"
   ]
  },
  {
   "cell_type": "code",
   "execution_count": 22,
   "id": "bad44bb7",
   "metadata": {},
   "outputs": [
    {
     "data": {
      "text/plain": [
       "'hello'"
      ]
     },
     "execution_count": 22,
     "metadata": {},
     "output_type": "execute_result"
    }
   ],
   "source": [
    "# This will be hard and annoying!\n",
    "d = {'k1':[1,2,{'k2':['k3',{'k4':[1,2,['hello']]}]}]}\n",
    "d['k1'][2]['k2'][1]['k4'][2][0]\n"
   ]
  }
 ],
 "metadata": {
  "kernelspec": {
   "display_name": "Python 3",
   "language": "python",
   "name": "python3"
  },
  "language_info": {
   "codemirror_mode": {
    "name": "ipython",
    "version": 3
   },
   "file_extension": ".py",
   "mimetype": "text/x-python",
   "name": "python",
   "nbconvert_exporter": "python",
   "pygments_lexer": "ipython3",
   "version": "3.8.8"
  }
 },
 "nbformat": 4,
 "nbformat_minor": 5
}
