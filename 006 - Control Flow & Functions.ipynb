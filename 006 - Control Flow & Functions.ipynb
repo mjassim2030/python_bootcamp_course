{
 "cells": [
  {
   "cell_type": "markdown",
   "id": "a55da84a",
   "metadata": {},
   "source": [
    "## Python Bootcamp\n",
    "\n",
    "### Content\n",
    "\n",
    "* Control Flow\n",
    "* Functions"
   ]
  },
  {
   "cell_type": "code",
   "execution_count": null,
   "id": "f9dfc7af",
   "metadata": {},
   "outputs": [],
   "source": [
    "if True:\n",
    "    print('It was true!')"
   ]
  },
  {
   "cell_type": "code",
   "execution_count": null,
   "id": "727a618b",
   "metadata": {},
   "outputs": [],
   "source": [
    "x = False\n",
    "\n",
    "if x:\n",
    "    print('x was True!')\n",
    "else:\n",
    "    print('I will be printed in any case where x is not true')"
   ]
  },
  {
   "cell_type": "markdown",
   "id": "91a8455e",
   "metadata": {},
   "source": [
    "### Comparasion Operators:\n",
    "||||\n",
    "|:--:|:--|:--|\n",
    "|**<**|less than|a < b|\n",
    "|**>**|greater than|a > b|\n",
    "|**<=**|less than or equal|a <= b|\n",
    "|**=>**|greater than or equal|a => b|\n",
    "|**==**|equal to|a == b|\n",
    "|**!=**|not equal to|a != b|"
   ]
  },
  {
   "cell_type": "markdown",
   "id": "9bcc00d8",
   "metadata": {},
   "source": [
    "## IF statment exercise \n",
    "Write an if statement that lets you know which of these prizes you won based on the number of points you've scored, which is stored in the integer variable *`points`*.\n",
    "\n",
    "\n",
    "|Points|Prize|\n",
    "|:----|:----|\n",
    "|1 - 50|No prize|\n",
    "|51 - 150|Bronze|\n",
    "|151 - 180|Silver|\n",
    "|More than 200|Gold|"
   ]
  },
  {
   "cell_type": "code",
   "execution_count": null,
   "id": "1d9ef41c",
   "metadata": {},
   "outputs": [],
   "source": [
    "points = 164  # use this input to make your submission\n",
    "\n",
    "prize_msg = \"Congratulations! You won a {} prize!\"\n",
    "no_prize_msg = \"Oh dear, no prize this time.\"\n",
    "\n",
    "# write your if statement here\n",
    "if 1 <= points <= 50:\n",
    "    result = no_prize_msg\n",
    "\n",
    "    \n",
    "\n",
    "print(result)"
   ]
  },
  {
   "cell_type": "markdown",
   "id": "dd8726b7",
   "metadata": {},
   "source": [
    "## For loop with strings exercise \n",
    "\n",
    "A CubeSat raw payload data received including noise characters and we need to extract the correct data and filter out those characters.\n",
    "* Data: **58&#/62&#/-13&#/-15&#/61&#/111&#/75&#/-43&#/-13&#/-67&#/67&#/82&#/1&**\n",
    "\n",
    "* We need Numbers only +ve and -ve, one value per line"
   ]
  },
  {
   "cell_type": "code",
   "execution_count": null,
   "id": "22ab020c",
   "metadata": {},
   "outputs": [],
   "source": [
    "payload = \"58&#/62&#/-13&#/-15&#/61&#/111&#/75&#/-43&#/-13&#/-67&#/67&#/82&#/1&\"\n",
    "payload = payload.split(\"&#/\")\n",
    "payload"
   ]
  },
  {
   "cell_type": "code",
   "execution_count": null,
   "id": "01d979fa",
   "metadata": {},
   "outputs": [],
   "source": [
    "for data in payload:\n",
    "    print(data)"
   ]
  },
  {
   "cell_type": "markdown",
   "id": "97771909",
   "metadata": {},
   "source": [
    "## For loop with lists exercise\n",
    "\n",
    "Write a for loop that iterates over the Emirati Astronauts list to:\n",
    "* Create a usernames list. \n",
    "* make everything lowercase \n",
    "* replace spaces with underscores. using replace()"
   ]
  },
  {
   "cell_type": "code",
   "execution_count": null,
   "id": "3b8166d4",
   "metadata": {},
   "outputs": [],
   "source": [
    "names = [\"Hazza Al Mansouri\", \"Sultan Al Niadi\", \"Nora Al Matrooshi\", \"Mohammad Al Mulla\"]\n",
    "usernames = []\n",
    "\n",
    "for name in names:\n",
    "    usernames.append(name.replace(\" \", \"_\").lower())\n",
    "\n",
    "print(usernames)"
   ]
  },
  {
   "cell_type": "markdown",
   "id": "62d1f6f7",
   "metadata": {},
   "source": [
    "## For loop with dictionaries exercise\n",
    "\n",
    "Write a for loop that iterates over a book title to\n",
    "* Create a dictionary that counts repeated words."
   ]
  },
  {
   "cell_type": "code",
   "execution_count": null,
   "id": "3276d3dc",
   "metadata": {},
   "outputs": [],
   "source": [
    "book_title =  ['great', 'expectations','the', 'adventures', 'of', 'sherlock','holmes','the','great','gasby','hamlet','adventures','of','huckleberry','fin']\n",
    "word_counter = {}\n",
    "\n",
    "for word in book_title:\n",
    "    word_counter[word] = word_counter.get(word,0) + 1\n",
    "\n",
    "print(word_counter)\n"
   ]
  },
  {
   "cell_type": "markdown",
   "id": "a9b1a378",
   "metadata": {},
   "source": [
    "## For loop with lists and dictionaries exercise\n",
    "\n",
    "* Count the number of fruits in your basket. \n",
    "* Count the number of Not fruits items in your basket."
   ]
  },
  {
   "cell_type": "code",
   "execution_count": null,
   "id": "07a20882",
   "metadata": {},
   "outputs": [],
   "source": [
    "fruit_count, not_fruit_count = 0, 0\n",
    "basket_items = {'apples': 4, 'oranges': 19, 'kites': 3, 'sandwiches': 8}\n",
    "\n",
    "fruits = ['apples', 'oranges', 'pears', 'peaches', 'grapes', 'bananas']\n",
    "\n",
    "#if the key is in the list of fruits, add to fruit_count.\n",
    "#if the key is not in the list, then add to the not_fruit_count\n",
    "\n",
    "#Iterate through the dictionary\n",
    "\n",
    "\n",
    "\n",
    "\n",
    "print(fruit_count, not_fruit_count)"
   ]
  },
  {
   "cell_type": "markdown",
   "id": "2b2b6961",
   "metadata": {},
   "source": [
    "## Functions"
   ]
  },
  {
   "cell_type": "code",
   "execution_count": 1,
   "id": "ea417a72",
   "metadata": {},
   "outputs": [],
   "source": [
    "def name_of_function(arg1,arg2):\n",
    "    '''\n",
    "    This is where the function's Document String (docstring) goes.\n",
    "    When you call help() on your function it will be printed out.\n",
    "    arg1(int): Explain the argument\n",
    "    arg2(float): Explain the argument\n",
    "    '''\n",
    "    # Do stuff here\n",
    "    # Return desired result"
   ]
  },
  {
   "cell_type": "code",
   "execution_count": 2,
   "id": "bafe8ea3",
   "metadata": {},
   "outputs": [],
   "source": [
    "def say_hello():\n",
    "    print('hello')"
   ]
  },
  {
   "cell_type": "code",
   "execution_count": null,
   "id": "c107a739",
   "metadata": {},
   "outputs": [],
   "source": [
    "say_hello()"
   ]
  },
  {
   "cell_type": "code",
   "execution_count": null,
   "id": "fcba08d3",
   "metadata": {},
   "outputs": [],
   "source": [
    "# Global Variable\n",
    "word = \"Hello World\"\n",
    "\n",
    "def some_function():\n",
    "    print(word)\n",
    "\n",
    "some_function()"
   ]
  },
  {
   "cell_type": "code",
   "execution_count": 3,
   "id": "6d611c76",
   "metadata": {},
   "outputs": [
    {
     "data": {
      "text/plain": [
       "7123.690280065897"
      ]
     },
     "execution_count": 3,
     "metadata": {},
     "output_type": "execute_result"
    }
   ],
   "source": [
    "def population_density(population, land_area):\n",
    "    \n",
    "    return population / land_area\n",
    "\n",
    "test1 = population_density(864816, 121.4)\n",
    "test1"
   ]
  },
  {
   "cell_type": "code",
   "execution_count": 4,
   "id": "2f0747fe",
   "metadata": {},
   "outputs": [
    {
     "data": {
      "text/plain": [
       "7123.69"
      ]
     },
     "execution_count": 4,
     "metadata": {},
     "output_type": "execute_result"
    }
   ],
   "source": [
    "# Rounding the results to 2 decimal points\n",
    "round(test1, 2)"
   ]
  }
 ],
 "metadata": {
  "kernelspec": {
   "display_name": "Python 3",
   "language": "python",
   "name": "python3"
  },
  "language_info": {
   "codemirror_mode": {
    "name": "ipython",
    "version": 3
   },
   "file_extension": ".py",
   "mimetype": "text/x-python",
   "name": "python",
   "nbconvert_exporter": "python",
   "pygments_lexer": "ipython3",
   "version": "3.8.8"
  }
 },
 "nbformat": 4,
 "nbformat_minor": 5
}
