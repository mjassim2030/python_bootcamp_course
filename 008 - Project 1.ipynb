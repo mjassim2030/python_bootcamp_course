{
 "cells": [
  {
   "cell_type": "markdown",
   "id": "cfa00d11",
   "metadata": {},
   "source": [
    "## Vaccination Verification System\n"
   ]
  },
  {
   "cell_type": "markdown",
   "id": "79642db4",
   "metadata": {},
   "source": [
    "## Purpose\n",
    "\n",
    "Design a system that checks people vaccination by national number.\n",
    "\n",
    "### Steps\n",
    "\n",
    "* Store Data in comma seperated file\n",
    "* Read the stored data\n",
    "* Split each person data into a dictionary values\n",
    "* Create a function to check the badge color\n",
    "* Grab person's data by id number\n",
    "\n",
    "\n",
    "### Data\n",
    "\n",
    "|ID Number|Name|Vaccine Type|Days since Vaccination|\n",
    "|:-------:|:---|:----------:|:--------------:|\n",
    "|840303123|Mohammed Ali|Sputnik|5|\n",
    "|940207145|Dina Yousif|Pfizer|23|\n",
    "|720303199|Salman Isa|Sinopharm|40|\n",
    "|440303142|Shayma Khalid|None|None|\n",
    "\n",
    "### Badge Colors\n",
    "\n",
    "|Days|Badge Color|\n",
    "|:-------|:---|\n",
    "|less than or equal 21|Red|\n",
    "|between 22 and 34|Yellow|\n",
    "|greater than 34|Green|"
   ]
  },
  {
   "cell_type": "markdown",
   "id": "6b3d176d",
   "metadata": {},
   "source": [
    "### Storing Data to a comma seperated file\n"
   ]
  },
  {
   "cell_type": "code",
   "execution_count": null,
   "id": "a9e09df2",
   "metadata": {
    "scrolled": true
   },
   "outputs": [],
   "source": []
  },
  {
   "cell_type": "markdown",
   "id": "aee64dd9",
   "metadata": {},
   "source": [
    "### Reading the data\n"
   ]
  },
  {
   "cell_type": "code",
   "execution_count": null,
   "id": "4a5126de",
   "metadata": {},
   "outputs": [],
   "source": []
  },
  {
   "cell_type": "code",
   "execution_count": null,
   "id": "241a41a7",
   "metadata": {},
   "outputs": [],
   "source": []
  },
  {
   "cell_type": "code",
   "execution_count": null,
   "id": "d147fe40",
   "metadata": {},
   "outputs": [],
   "source": []
  },
  {
   "cell_type": "markdown",
   "id": "fd60b1ae",
   "metadata": {},
   "source": [
    "### Splitting data into a nested dictionary"
   ]
  },
  {
   "cell_type": "code",
   "execution_count": null,
   "id": "0f7d1637",
   "metadata": {},
   "outputs": [],
   "source": []
  },
  {
   "cell_type": "code",
   "execution_count": null,
   "id": "6e3bd99f",
   "metadata": {},
   "outputs": [],
   "source": []
  },
  {
   "cell_type": "code",
   "execution_count": null,
   "id": "83ee1009",
   "metadata": {},
   "outputs": [],
   "source": []
  },
  {
   "cell_type": "markdown",
   "id": "ae70b7dc",
   "metadata": {},
   "source": [
    "### Create a function that calculates number of days since the vaccination"
   ]
  },
  {
   "cell_type": "code",
   "execution_count": null,
   "id": "cc4e0968",
   "metadata": {},
   "outputs": [],
   "source": []
  },
  {
   "cell_type": "markdown",
   "id": "2648ec55",
   "metadata": {},
   "source": [
    "### Grabbing person's data by id number"
   ]
  },
  {
   "cell_type": "code",
   "execution_count": null,
   "id": "7dc0c18a",
   "metadata": {},
   "outputs": [],
   "source": []
  },
  {
   "cell_type": "code",
   "execution_count": null,
   "id": "047a7d46",
   "metadata": {},
   "outputs": [],
   "source": []
  }
 ],
 "metadata": {
  "kernelspec": {
   "display_name": "Python 3",
   "language": "python",
   "name": "python3"
  },
  "language_info": {
   "codemirror_mode": {
    "name": "ipython",
    "version": 3
   },
   "file_extension": ".py",
   "mimetype": "text/x-python",
   "name": "python",
   "nbconvert_exporter": "python",
   "pygments_lexer": "ipython3",
   "version": "3.8.8"
  }
 },
 "nbformat": 4,
 "nbformat_minor": 5
}
