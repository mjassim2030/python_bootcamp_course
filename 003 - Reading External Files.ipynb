{
 "cells": [
  {
   "cell_type": "markdown",
   "id": "5ce2e85c",
   "metadata": {},
   "source": [
    "# Reading Exernal Files\n",
    "\n",
    "### File object can be:\n",
    "\n",
    "* Text file\n",
    "* Excel documents\n",
    "* Emails\n",
    "* Audio file\n",
    "* Videos files\n",
    "* ...etc. \n"
   ]
  },
  {
   "cell_type": "code",
   "execution_count": 7,
   "id": "b9aea3b6",
   "metadata": {},
   "outputs": [],
   "source": [
    "# Use Jupyter notebook magic command %%writefile "
   ]
  },
  {
   "cell_type": "code",
   "execution_count": 8,
   "id": "968c5761",
   "metadata": {},
   "outputs": [
    {
     "name": "stdout",
     "output_type": "stream",
     "text": [
      "Overwriting my_file.txt\n"
     ]
    }
   ],
   "source": [
    "%%writefile my_file.txt\n",
    "First Line\n",
    "Second Line\n",
    "Third Line"
   ]
  },
  {
   "cell_type": "code",
   "execution_count": 11,
   "id": "72d0db49",
   "metadata": {},
   "outputs": [],
   "source": [
    "# Open the my_file.txt we created earlier\n",
    "my_file = "
   ]
  },
  {
   "cell_type": "code",
   "execution_count": 12,
   "id": "5bfedd4e",
   "metadata": {},
   "outputs": [
    {
     "data": {
      "text/plain": [
       "'First Line\\nSecond Line\\nThird Line\\n'"
      ]
     },
     "execution_count": 12,
     "metadata": {},
     "output_type": "execute_result"
    }
   ],
   "source": [
    "# We can now read the file\n",
    "my_file.read()"
   ]
  },
  {
   "cell_type": "code",
   "execution_count": 15,
   "id": "f1b0930b",
   "metadata": {},
   "outputs": [],
   "source": [
    "# Remeber to close the file\n",
    "my_file.close()"
   ]
  },
  {
   "cell_type": "code",
   "execution_count": 16,
   "id": "4a355cb9",
   "metadata": {},
   "outputs": [
    {
     "name": "stdout",
     "output_type": "stream",
     "text": [
      "First Line\n",
      "\n",
      "Second Line\n",
      "\n",
      "Third Line\n",
      "\n"
     ]
    }
   ],
   "source": [
    "# Also, we can read the text file like this\n",
    "for line in open('my_file.txt'):\n",
    "    print(line)"
   ]
  }
 ],
 "metadata": {
  "kernelspec": {
   "display_name": "Python 3",
   "language": "python",
   "name": "python3"
  },
  "language_info": {
   "codemirror_mode": {
    "name": "ipython",
    "version": 3
   },
   "file_extension": ".py",
   "mimetype": "text/x-python",
   "name": "python",
   "nbconvert_exporter": "python",
   "pygments_lexer": "ipython3",
   "version": "3.8.8"
  }
 },
 "nbformat": 4,
 "nbformat_minor": 5
}
