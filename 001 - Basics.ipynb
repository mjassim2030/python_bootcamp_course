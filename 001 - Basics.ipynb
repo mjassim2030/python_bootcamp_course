{
 "cells": [
  {
   "cell_type": "markdown",
   "id": "f638e10d",
   "metadata": {},
   "source": [
    "## Python Bootcamp\n",
    "\n",
    "### What you will learn\n",
    "\n",
    "* Common Data Types in Python\n",
    "* Operators"
   ]
  },
  {
   "cell_type": "markdown",
   "id": "daefe6a4",
   "metadata": {},
   "source": [
    "## Python Basic Data Types\n",
    "|Data Types|Description|Examples|\n",
    "|:----|:-----|:----|\n",
    "|**Integers**|Whole numbers|2     600     -200|\n",
    "|**Floating point**|Numbers with a decimal point|6.2     1.5    40.0|\n",
    "|**Strings**|Ordered sequence of characters|\"hello\"   'Sammy'   \"2000\"  \"أهلا\"|\n",
    "|**Booleans**|Logical value|True or False|"
   ]
  },
  {
   "cell_type": "markdown",
   "id": "90eac6fc",
   "metadata": {},
   "source": [
    "## Basic Arithmetics:\n",
    "|||\n",
    "|:--|:--:|\n",
    "|**Addition**|1+3|\n",
    "|**Subtraction**|1-3|\n",
    "|**Multiplication**|1*3|\n",
    "|**Division**|1/3|\n",
    "|**Floor division**|7//4  (Rounding the integer only)|\n",
    "|**Remainder**|7%2|\n",
    "|**Power**|2**3  (2 to the power of 3)|\n",
    "|**Root**|4**0.5 (4 to the power of 0.5)|\n",
    "|**Order of Operations**|3 + 5 * 5 + 2  (Parenthesis will change orders (3+5) * (5+2))|"
   ]
  },
  {
   "cell_type": "code",
   "execution_count": null,
   "id": "d8274fb4",
   "metadata": {},
   "outputs": [],
   "source": [
    "# Addition\n",
    "2+1"
   ]
  },
  {
   "cell_type": "code",
   "execution_count": null,
   "id": "488a4d9f",
   "metadata": {},
   "outputs": [],
   "source": [
    "# Subtraction\n",
    "2-1"
   ]
  },
  {
   "cell_type": "code",
   "execution_count": null,
   "id": "596d5496",
   "metadata": {},
   "outputs": [],
   "source": [
    "# Multiplication\n",
    "2*2"
   ]
  },
  {
   "cell_type": "code",
   "execution_count": null,
   "id": "243c8166",
   "metadata": {},
   "outputs": [],
   "source": [
    "# Division\n",
    "3/2"
   ]
  },
  {
   "cell_type": "code",
   "execution_count": null,
   "id": "d7214239",
   "metadata": {},
   "outputs": [],
   "source": [
    "# Floor Division \n",
    "# (Should be 1.75 but we get only the integer part)\n",
    "\n",
    "7//4"
   ]
  },
  {
   "cell_type": "code",
   "execution_count": null,
   "id": "bf1f92a3",
   "metadata": {},
   "outputs": [],
   "source": [
    "# Remainder (with % 2 you can check if a number is even)\n",
    "6 % 2"
   ]
  },
  {
   "cell_type": "markdown",
   "id": "5714187b",
   "metadata": {},
   "source": [
    "$2^3$"
   ]
  },
  {
   "cell_type": "code",
   "execution_count": null,
   "id": "65a48b1d",
   "metadata": {
    "scrolled": true
   },
   "outputs": [],
   "source": [
    "# Powers\n",
    "2**3 "
   ]
  },
  {
   "cell_type": "markdown",
   "id": "b6eb835a",
   "metadata": {},
   "source": [
    "$\\sqrt{4}$\t"
   ]
  },
  {
   "cell_type": "code",
   "execution_count": null,
   "id": "12384173",
   "metadata": {},
   "outputs": [],
   "source": [
    "# Can also do roots this way\n",
    "4**0.5"
   ]
  },
  {
   "cell_type": "code",
   "execution_count": null,
   "id": "1917641c",
   "metadata": {},
   "outputs": [],
   "source": [
    "# Order of Operations followed in Python\n",
    "2 + 10 * 10 + 3"
   ]
  },
  {
   "cell_type": "code",
   "execution_count": null,
   "id": "232e90a5",
   "metadata": {},
   "outputs": [],
   "source": [
    "# Can use parentheses to specify orders\n",
    "(2+10) * (10+3)"
   ]
  },
  {
   "cell_type": "markdown",
   "id": "58ed8b13",
   "metadata": {},
   "source": [
    "## Variable assignments"
   ]
  },
  {
   "cell_type": "code",
   "execution_count": null,
   "id": "9bd68465",
   "metadata": {},
   "outputs": [],
   "source": [
    "a = 5"
   ]
  },
  {
   "cell_type": "code",
   "execution_count": null,
   "id": "9e03da50",
   "metadata": {},
   "outputs": [],
   "source": [
    "a + a"
   ]
  },
  {
   "cell_type": "code",
   "execution_count": null,
   "id": "0c9e040c",
   "metadata": {},
   "outputs": [],
   "source": [
    "a = 10"
   ]
  },
  {
   "cell_type": "code",
   "execution_count": null,
   "id": "06cc6ed5",
   "metadata": {},
   "outputs": [],
   "source": [
    "a"
   ]
  },
  {
   "cell_type": "code",
   "execution_count": null,
   "id": "8a83b0e2",
   "metadata": {},
   "outputs": [],
   "source": [
    "a = a + a"
   ]
  },
  {
   "cell_type": "code",
   "execution_count": null,
   "id": "d0aedc50",
   "metadata": {},
   "outputs": [],
   "source": [
    "# One employee makes BHD 500 per month, and the bonus percentage is 3%. \n",
    "# Calculate the total annual income:\n",
    "\n",
    "basic_salary =\n",
    "\n",
    "months =\n",
    "\n",
    "bouns = "
   ]
  },
  {
   "cell_type": "markdown",
   "id": "9f136dcb",
   "metadata": {},
   "source": [
    "## Variable name rules\n",
    "\n",
    "* Not to start with number    (Like -> 1mysalary)\n",
    "* No spaces allowed (use _ instead)    (Like -> my salary    but could be my_salary)\n",
    "* Not to use these '\",<>/?|\\()!@#$%^&*~-+\n",
    "* Not to use words with special meaning in Python like \"list\" and \"str\"\n",
    "* Use small case (PEP8) (my_salary not mySalary) "
   ]
  },
  {
   "cell_type": "markdown",
   "id": "9d7c9385",
   "metadata": {},
   "source": [
    "## Dynamic Typing \n",
    "\n",
    "* Reassign variables to different data type\n",
    "* This makes python very flexible in defining variables.\n",
    "* **Pros**: Rapid and easy programming\n",
    "* **Cons**: Could result to errors in defining variables with different data types."
   ]
  },
  {
   "cell_type": "markdown",
   "id": "0df69d11",
   "metadata": {},
   "source": [
    "## Determining variable type with `type()`\n",
    "* **int** (for integer)\n",
    "* **float**\n",
    "* **str** (for string)\n",
    "* **list**\n",
    "* **tuple**\n",
    "* **dict** (for dictionary)\n",
    "* **set**\n",
    "* **bool** (for Boolean True/False)"
   ]
  },
  {
   "cell_type": "code",
   "execution_count": null,
   "id": "7750c874",
   "metadata": {},
   "outputs": [],
   "source": [
    "a = 20\n",
    "# Write type(a) below:\n"
   ]
  },
  {
   "cell_type": "code",
   "execution_count": null,
   "id": "7749b1d2",
   "metadata": {},
   "outputs": [],
   "source": [
    "a = 3.4\n",
    "# Write type(a) below:\n"
   ]
  },
  {
   "cell_type": "code",
   "execution_count": null,
   "id": "1ec80b42",
   "metadata": {},
   "outputs": [],
   "source": [
    "# Type your name between the double quotations \n",
    "\n",
    "your_name = \"\"\n",
    "\n",
    "a = \"My name is \" + your_name\n",
    "a"
   ]
  },
  {
   "cell_type": "code",
   "execution_count": null,
   "id": "c11bedcb",
   "metadata": {},
   "outputs": [],
   "source": [
    "type(a)"
   ]
  },
  {
   "cell_type": "markdown",
   "id": "4ce8a3f0",
   "metadata": {},
   "source": [
    "## Strings\n",
    "* Create and Print Strings\n",
    "* Indexing and Slicing\n",
    "* Properties and Methods\n",
    "* Print Formatting"
   ]
  },
  {
   "cell_type": "code",
   "execution_count": null,
   "id": "17cf3477",
   "metadata": {},
   "outputs": [],
   "source": [
    "'hello'"
   ]
  },
  {
   "cell_type": "code",
   "execution_count": null,
   "id": "7894bf47",
   "metadata": {},
   "outputs": [],
   "source": [
    "'This is also a string'"
   ]
  },
  {
   "cell_type": "code",
   "execution_count": null,
   "id": "8f21301f",
   "metadata": {},
   "outputs": [],
   "source": [
    "\"String built with double quotes\""
   ]
  },
  {
   "cell_type": "code",
   "execution_count": null,
   "id": "ce4b82b0",
   "metadata": {
    "scrolled": false
   },
   "outputs": [],
   "source": [
    "' I'm using single quotes, but this will create an error' "
   ]
  },
  {
   "cell_type": "markdown",
   "id": "ea459442",
   "metadata": {},
   "source": [
    "### Indexing and Slicing\n",
    "\n",
    "* Strings are Ordered sequences, thus we can use indexing and slicing to get parts of the string.\n",
    "* Indexing uses [ ] after the string (or string variable).\n",
    "* Indexing allows you to get a single character from the string. \t\t"
   ]
  },
  {
   "cell_type": "code",
   "execution_count": null,
   "id": "effa0df2",
   "metadata": {},
   "outputs": [],
   "source": [
    "my_string = 'Python'"
   ]
  },
  {
   "cell_type": "markdown",
   "id": "ec3f4e78",
   "metadata": {},
   "source": [
    "||P|y|t|h|o|n|\n",
    "|:--|:--:|:--:|:--:|:--:|:--:|:--:|\n",
    "|Index|0|1|2|3|4|5|\n",
    "|Reverse Index|0|-5|-4|-3|-2|-1|"
   ]
  },
  {
   "cell_type": "code",
   "execution_count": null,
   "id": "119affec",
   "metadata": {},
   "outputs": [],
   "source": [
    "# Type my_string[0] below:\n"
   ]
  },
  {
   "cell_type": "code",
   "execution_count": null,
   "id": "1a69da78",
   "metadata": {},
   "outputs": [],
   "source": [
    "# Type my_string[4] below to get the fifth character:\n"
   ]
  },
  {
   "cell_type": "code",
   "execution_count": null,
   "id": "1744f8a5",
   "metadata": {},
   "outputs": [],
   "source": [
    "# Get the last character\n"
   ]
  },
  {
   "cell_type": "markdown",
   "id": "d1f9b0fd",
   "metadata": {},
   "source": [
    "## Test your understanding\n",
    "\n",
    "Consider having the string `s = 'Bahrain is an island'`\n",
    "\n",
    "What would be the result of **s[10]** in python ?"
   ]
  },
  {
   "cell_type": "code",
   "execution_count": null,
   "id": "7a88a216",
   "metadata": {},
   "outputs": [],
   "source": [
    "s = 'Bahrain is an island'"
   ]
  },
  {
   "cell_type": "code",
   "execution_count": null,
   "id": "80b4aa3d",
   "metadata": {},
   "outputs": [],
   "source": []
  },
  {
   "cell_type": "markdown",
   "id": "513de2ce",
   "metadata": {},
   "source": [
    "### Printing a String"
   ]
  },
  {
   "cell_type": "code",
   "execution_count": null,
   "id": "a9494963",
   "metadata": {},
   "outputs": [],
   "source": [
    "'Hello World 1'"
   ]
  },
  {
   "cell_type": "code",
   "execution_count": null,
   "id": "0890176a",
   "metadata": {},
   "outputs": [],
   "source": [
    "'Hello World 1'\n",
    "'Hello World 2'"
   ]
  },
  {
   "cell_type": "code",
   "execution_count": null,
   "id": "681e80c5",
   "metadata": {},
   "outputs": [],
   "source": [
    "print('Hello World 1')\n",
    "# Type print(\"Hello World 2\")\n"
   ]
  },
  {
   "cell_type": "code",
   "execution_count": null,
   "id": "e4e7f09d",
   "metadata": {},
   "outputs": [],
   "source": [
    "len('Hello World')"
   ]
  },
  {
   "cell_type": "code",
   "execution_count": null,
   "id": "bbbf7122",
   "metadata": {},
   "outputs": [],
   "source": [
    "s = 'Hello World and welcome to this course'\n",
    "# Type len(s) below:\n"
   ]
  },
  {
   "cell_type": "code",
   "execution_count": null,
   "id": "f15c2af4",
   "metadata": {},
   "outputs": [],
   "source": [
    "# Print the s "
   ]
  },
  {
   "cell_type": "markdown",
   "id": "efb884b4",
   "metadata": {},
   "source": [
    "## Slicing\n",
    "* Syntax:  **[start:stop:step]**\n",
    "* Start: Start index\n",
    "* Stop: Stop index (up to but not include)\n",
    "* Step: Jump size between characters."
   ]
  },
  {
   "cell_type": "code",
   "execution_count": null,
   "id": "bf20591e",
   "metadata": {},
   "outputs": [],
   "source": [
    "s = 'Hello World'\n",
    "s"
   ]
  },
  {
   "cell_type": "code",
   "execution_count": null,
   "id": "14d1a23f",
   "metadata": {},
   "outputs": [],
   "source": [
    "s[1:]"
   ]
  },
  {
   "cell_type": "code",
   "execution_count": null,
   "id": "bc784ca2",
   "metadata": {},
   "outputs": [],
   "source": [
    "s"
   ]
  },
  {
   "cell_type": "code",
   "execution_count": null,
   "id": "b7821f59",
   "metadata": {},
   "outputs": [],
   "source": [
    "# Type s[:3] below:\n"
   ]
  },
  {
   "cell_type": "code",
   "execution_count": null,
   "id": "08cf2e3f",
   "metadata": {},
   "outputs": [],
   "source": [
    "# Each command below gives the same:\n",
    "\n",
    "print(s)\n",
    "print(s[:])\n",
    "print(s[::])\n",
    "print(s[::1])"
   ]
  },
  {
   "cell_type": "code",
   "execution_count": null,
   "id": "a49dc485",
   "metadata": {},
   "outputs": [],
   "source": [
    "# Type s[::1] below\n"
   ]
  },
  {
   "cell_type": "code",
   "execution_count": null,
   "id": "21cdbfb2",
   "metadata": {},
   "outputs": [],
   "source": [
    "# increase the step to 2\n",
    "s[::1]"
   ]
  },
  {
   "cell_type": "code",
   "execution_count": null,
   "id": "0ebdddbc",
   "metadata": {},
   "outputs": [],
   "source": [
    "# Reverse the string using -1 for the step\n",
    "s[::1]"
   ]
  },
  {
   "cell_type": "markdown",
   "id": "275f7ead",
   "metadata": {},
   "source": [
    "## Immutability \n"
   ]
  },
  {
   "cell_type": "code",
   "execution_count": null,
   "id": "5ae34d77",
   "metadata": {
    "scrolled": false
   },
   "outputs": [],
   "source": [
    "s = \"Hello World\"\n",
    "s"
   ]
  },
  {
   "cell_type": "code",
   "execution_count": null,
   "id": "f4e812b7",
   "metadata": {},
   "outputs": [],
   "source": [
    "# Try to change the first charcter to 'x'\n"
   ]
  },
  {
   "cell_type": "markdown",
   "id": "9e84cb67",
   "metadata": {},
   "source": [
    "## Built in functions & formatting \n"
   ]
  },
  {
   "cell_type": "code",
   "execution_count": null,
   "id": "09879778",
   "metadata": {},
   "outputs": [],
   "source": [
    "s = \"heLlO WoRlD\""
   ]
  },
  {
   "cell_type": "code",
   "execution_count": null,
   "id": "14133e19",
   "metadata": {},
   "outputs": [],
   "source": [
    "# Convert s to lowercase\n"
   ]
  },
  {
   "cell_type": "code",
   "execution_count": null,
   "id": "e0fe7899",
   "metadata": {},
   "outputs": [],
   "source": [
    "# Convert s to uppercase\n"
   ]
  },
  {
   "cell_type": "code",
   "execution_count": null,
   "id": "d2514a3a",
   "metadata": {},
   "outputs": [],
   "source": [
    "# Split a string by blank space (this is the default)\n"
   ]
  },
  {
   "cell_type": "code",
   "execution_count": null,
   "id": "c29182f9",
   "metadata": {},
   "outputs": [],
   "source": [
    "# Split a string by the letter 'l' \n"
   ]
  },
  {
   "cell_type": "code",
   "execution_count": null,
   "id": "b50380c3",
   "metadata": {},
   "outputs": [],
   "source": [
    "s"
   ]
  },
  {
   "cell_type": "code",
   "execution_count": null,
   "id": "f7a9d302",
   "metadata": {},
   "outputs": [],
   "source": [
    "# Store changes to (s) be re-asigning lower() and split() values\n"
   ]
  },
  {
   "cell_type": "code",
   "execution_count": null,
   "id": "9cea439e",
   "metadata": {},
   "outputs": [],
   "source": [
    "# Check s value now\n",
    "s"
   ]
  },
  {
   "cell_type": "markdown",
   "id": "51e3623c",
   "metadata": {},
   "source": [
    "### Formatting"
   ]
  },
  {
   "cell_type": "code",
   "execution_count": null,
   "id": "2c4b39d6",
   "metadata": {},
   "outputs": [],
   "source": [
    "s = 'Hello World'\n",
    "print(s + 'and welcome')"
   ]
  },
  {
   "cell_type": "code",
   "execution_count": null,
   "id": "6fa4cd7d",
   "metadata": {},
   "outputs": [],
   "source": [
    "s = \n",
    "print(s)"
   ]
  },
  {
   "cell_type": "code",
   "execution_count": null,
   "id": "18563e1a",
   "metadata": {},
   "outputs": [],
   "source": [
    "s = 'Insert another string with curly brackets: {}'.format('The inserted string')\n",
    "s"
   ]
  },
  {
   "cell_type": "code",
   "execution_count": null,
   "id": "4fdbe24c",
   "metadata": {},
   "outputs": [],
   "source": [
    "name = \"\"\n",
    "salary = \n",
    "\n",
    "s = \n",
    "\n",
    "print(s)"
   ]
  },
  {
   "cell_type": "code",
   "execution_count": null,
   "id": "f1b27941",
   "metadata": {},
   "outputs": [],
   "source": [
    "# Now use input() function\n",
    "name = \"\"\n",
    "salary = \n",
    "\n",
    "s = \n",
    "\n",
    "print(s)"
   ]
  },
  {
   "cell_type": "markdown",
   "id": "14458e47",
   "metadata": {},
   "source": [
    "## Booleans"
   ]
  },
  {
   "cell_type": "markdown",
   "id": "3e51c52f",
   "metadata": {},
   "source": [
    "### Comparasion Operators:\n",
    "||||\n",
    "|:--:|:--|:--|\n",
    "|**<**|less than|a < b|\n",
    "|**>**|greater than|a > b|\n",
    "|**<=**|less than or equal|a <= b|\n",
    "|**=>**|greater than or equal|a => b|\n",
    "|**==**|equal to|a == b|\n",
    "|**!=**|not equal to|a != b|\n"
   ]
  },
  {
   "cell_type": "code",
   "execution_count": null,
   "id": "da1ed34e",
   "metadata": {},
   "outputs": [],
   "source": [
    "# Set object to be a boolean\n",
    "a = True\n",
    "a"
   ]
  },
  {
   "cell_type": "code",
   "execution_count": null,
   "id": "4a62ad03",
   "metadata": {},
   "outputs": [],
   "source": [
    "2 > 3"
   ]
  },
  {
   "cell_type": "code",
   "execution_count": null,
   "id": "af2f1196",
   "metadata": {},
   "outputs": [],
   "source": [
    "3 <= 2"
   ]
  },
  {
   "cell_type": "code",
   "execution_count": null,
   "id": "1835a2cc",
   "metadata": {},
   "outputs": [],
   "source": [
    "3 == 2.0"
   ]
  },
  {
   "cell_type": "code",
   "execution_count": null,
   "id": "b24fde70",
   "metadata": {},
   "outputs": [],
   "source": [
    "3.0 == 3"
   ]
  },
  {
   "cell_type": "code",
   "execution_count": null,
   "id": "102367b7",
   "metadata": {},
   "outputs": [],
   "source": [
    "4**0.5 != 2"
   ]
  },
  {
   "cell_type": "code",
   "execution_count": null,
   "id": "a3023569",
   "metadata": {},
   "outputs": [],
   "source": [
    "# Example\n",
    "distance = 1000\n",
    "speed = 200\n",
    "time = 1.5\n",
    "\n",
    "Message = \"The distance is {} km\""
   ]
  },
  {
   "cell_type": "code",
   "execution_count": null,
   "id": "bedc3c7e",
   "metadata": {},
   "outputs": [],
   "source": [
    "Message.format(distance)"
   ]
  },
  {
   "cell_type": "code",
   "execution_count": null,
   "id": "7a175e8f",
   "metadata": {},
   "outputs": [],
   "source": [
    "Message.format(speed * time)"
   ]
  },
  {
   "cell_type": "code",
   "execution_count": null,
   "id": "59457c2c",
   "metadata": {},
   "outputs": [],
   "source": [
    "# True or False?\n",
    "Message.format(distance) == Message.format(speed * time)"
   ]
  }
 ],
 "metadata": {
  "kernelspec": {
   "display_name": "Python 3",
   "language": "python",
   "name": "python3"
  },
  "language_info": {
   "codemirror_mode": {
    "name": "ipython",
    "version": 3
   },
   "file_extension": ".py",
   "mimetype": "text/x-python",
   "name": "python",
   "nbconvert_exporter": "python",
   "pygments_lexer": "ipython3",
   "version": "3.8.8"
  }
 },
 "nbformat": 4,
 "nbformat_minor": 5
}
