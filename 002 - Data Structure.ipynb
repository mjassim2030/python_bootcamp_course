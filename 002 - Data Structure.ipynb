{
 "cells": [
  {
   "cell_type": "markdown",
   "id": "d9598d75",
   "metadata": {},
   "source": [
    "## Data Structure\n",
    "\n",
    "#### Basic types of data structures:\n",
    "\n",
    "|Data Types|Example|Ordered|Mutable|Unique|Important Methods|\n",
    "|:----|:-----|:----:|:----:|:----:|:----|\n",
    "|**Lists**|[40,“python\",400.2]|&check;|&check;|&cross;|append, count, sort, pop, clear|\n",
    "|**Tuples**|(20,“python\",300.5)|&check;|&cross;|&cross;||\n",
    "|**Dictionaries**|{“key\" : \"value\" , \"name\" : “Sam\"}|&cross;|&check;|Keys only|get, keys, items, values, pop|\n",
    "|**Sets**|{“g\",“k\"}|&cross;|&cross;|&check;||"
   ]
  },
  {
   "cell_type": "markdown",
   "id": "46fd2d81",
   "metadata": {},
   "source": [
    "## Lists  [ ]"
   ]
  },
  {
   "cell_type": "code",
   "execution_count": 2,
   "id": "0024c308",
   "metadata": {},
   "outputs": [],
   "source": [
    "# Creating a list is done like this\n",
    "my_list = [1,2,3]"
   ]
  },
  {
   "cell_type": "code",
   "execution_count": 3,
   "id": "430f5cc7",
   "metadata": {},
   "outputs": [],
   "source": [
    "# You can mix different data types inside it\n",
    "my_list = ['A string',23,100.232,'o']"
   ]
  },
  {
   "cell_type": "code",
   "execution_count": 9,
   "id": "ac3cb956",
   "metadata": {},
   "outputs": [
    {
     "data": {
      "text/plain": [
       "5"
      ]
     },
     "execution_count": 9,
     "metadata": {},
     "output_type": "execute_result"
    }
   ],
   "source": [
    "# Number of objects inside the list using len()\n"
   ]
  },
  {
   "cell_type": "code",
   "execution_count": 83,
   "id": "745c1609",
   "metadata": {},
   "outputs": [],
   "source": [
    "my_list = ['one','two','three',4,5]"
   ]
  },
  {
   "cell_type": "code",
   "execution_count": 84,
   "id": "826b2121",
   "metadata": {},
   "outputs": [],
   "source": [
    "# We can apply indexing grab element 0\n"
   ]
  },
  {
   "cell_type": "code",
   "execution_count": 85,
   "id": "6cd5077b",
   "metadata": {},
   "outputs": [
    {
     "data": {
      "text/plain": [
       "['two', 'three', 4, 5]"
      ]
     },
     "execution_count": 85,
     "metadata": {},
     "output_type": "execute_result"
    }
   ],
   "source": [
    "# And slicing as well\n",
    "my_list[1:]"
   ]
  },
  {
   "cell_type": "code",
   "execution_count": 86,
   "id": "12fdb9bc",
   "metadata": {},
   "outputs": [
    {
     "data": {
      "text/plain": [
       "['one', 'two', 'three']"
      ]
     },
     "execution_count": 86,
     "metadata": {},
     "output_type": "execute_result"
    }
   ],
   "source": [
    "my_list[:3]"
   ]
  },
  {
   "cell_type": "code",
   "execution_count": 87,
   "id": "72a3034b",
   "metadata": {},
   "outputs": [],
   "source": [
    "# We can do assignment becuase lists are mutable\n"
   ]
  },
  {
   "cell_type": "code",
   "execution_count": 88,
   "id": "041825e0",
   "metadata": {},
   "outputs": [
    {
     "data": {
      "text/plain": [
       "['New Value', 'two', 'three', 4, 5]"
      ]
     },
     "execution_count": 88,
     "metadata": {},
     "output_type": "execute_result"
    }
   ],
   "source": [
    "# Check my_list now\n"
   ]
  },
  {
   "cell_type": "markdown",
   "id": "dedcc85b",
   "metadata": {},
   "source": [
    "## Tuples ( )"
   ]
  },
  {
   "cell_type": "code",
   "execution_count": null,
   "id": "ccc62108",
   "metadata": {},
   "outputs": [],
   "source": [
    "# We define a tuple like that\n",
    "my_tuple = (1,2,3)"
   ]
  },
  {
   "cell_type": "code",
   "execution_count": null,
   "id": "54364106",
   "metadata": {},
   "outputs": [],
   "source": [
    "# Try indexing\n"
   ]
  },
  {
   "cell_type": "code",
   "execution_count": null,
   "id": "044ff177",
   "metadata": {},
   "outputs": [],
   "source": [
    "# Now try assignment (It wont work!)\n"
   ]
  },
  {
   "cell_type": "markdown",
   "id": "4186c359",
   "metadata": {},
   "source": [
    "## List Methods"
   ]
  },
  {
   "cell_type": "code",
   "execution_count": 13,
   "id": "bd72e95c",
   "metadata": {},
   "outputs": [],
   "source": [
    "# Create a new list\n",
    "list1 = [1,2,3]"
   ]
  },
  {
   "cell_type": "code",
   "execution_count": 14,
   "id": "c28bc0fb",
   "metadata": {},
   "outputs": [],
   "source": [
    "# Append to the list \n",
    "#Type list1.append('append me!') below\n"
   ]
  },
  {
   "cell_type": "code",
   "execution_count": 15,
   "id": "aa99fe15",
   "metadata": {},
   "outputs": [
    {
     "data": {
      "text/plain": [
       "[1, 2, 3]"
      ]
     },
     "execution_count": 15,
     "metadata": {},
     "output_type": "execute_result"
    }
   ],
   "source": [
    "# Check list1\n",
    "list1"
   ]
  },
  {
   "cell_type": "code",
   "execution_count": 16,
   "id": "ef96e489",
   "metadata": {},
   "outputs": [],
   "source": [
    "# Remove object from the list \n",
    "# Type list1.pop(0) below\n"
   ]
  },
  {
   "cell_type": "code",
   "execution_count": 17,
   "id": "f6ab691c",
   "metadata": {},
   "outputs": [
    {
     "data": {
      "text/plain": [
       "[1, 2, 3]"
      ]
     },
     "execution_count": 17,
     "metadata": {},
     "output_type": "execute_result"
    }
   ],
   "source": [
    "# Check list1\n"
   ]
  },
  {
   "cell_type": "code",
   "execution_count": 21,
   "id": "97a9f304",
   "metadata": {},
   "outputs": [],
   "source": [
    "new_list = ['a','e','x','b','c']\n",
    "new_list"
   ]
  },
  {
   "cell_type": "code",
   "execution_count": 22,
   "id": "70f2c0d7",
   "metadata": {},
   "outputs": [],
   "source": [
    "# Use reverse() to reverse order (this is permanent!)\n"
   ]
  },
  {
   "cell_type": "code",
   "execution_count": 24,
   "id": "802870e4",
   "metadata": {},
   "outputs": [
    {
     "data": {
      "text/plain": [
       "['c', 'b', 'x', 'e', 'a']"
      ]
     },
     "execution_count": 24,
     "metadata": {},
     "output_type": "execute_result"
    }
   ],
   "source": [
    "# Check list1\n",
    "new_list"
   ]
  },
  {
   "cell_type": "code",
   "execution_count": null,
   "id": "2ed56c4e",
   "metadata": {},
   "outputs": [],
   "source": [
    "# Use sort() to sort the list (in this case alphabetical order, but for numbers it will go ascending)\n"
   ]
  },
  {
   "cell_type": "code",
   "execution_count": null,
   "id": "b4edada4",
   "metadata": {},
   "outputs": [],
   "source": [
    "new_list"
   ]
  },
  {
   "cell_type": "markdown",
   "id": "31aeda2f",
   "metadata": {},
   "source": [
    "# Dictionaries { }\n",
    "\n",
    "    1.) Constructing a Dictionary\n",
    "    2.) Accessing objects from a dictionary\n",
    "    3.) Nesting Dictionaries\n",
    "    4.) Basic Dictionary Methods"
   ]
  },
  {
   "cell_type": "code",
   "execution_count": 25,
   "id": "93ebfb0d",
   "metadata": {},
   "outputs": [],
   "source": [
    "# Make a dictionary with {} and colon (:)\n",
    "my_dict = {'key1':'value1','key2':'value2'}"
   ]
  },
  {
   "cell_type": "code",
   "execution_count": 26,
   "id": "a7e585e4",
   "metadata": {},
   "outputs": [
    {
     "data": {
      "text/plain": [
       "'value2'"
      ]
     },
     "execution_count": 26,
     "metadata": {},
     "output_type": "execute_result"
    }
   ],
   "source": [
    "# Call values by their check key2 value\n"
   ]
  },
  {
   "cell_type": "code",
   "execution_count": 35,
   "id": "6a5e9975",
   "metadata": {},
   "outputs": [],
   "source": [
    "# You can mix different data types inside it (even add a list, tuple or set)\n",
    "\n",
    "my_dict = {'key1':123,'key2':[12,23,33],'key3':['item0','item1','item2']}"
   ]
  },
  {
   "cell_type": "code",
   "execution_count": 36,
   "id": "b34a445d",
   "metadata": {},
   "outputs": [
    {
     "data": {
      "text/plain": [
       "123"
      ]
     },
     "execution_count": 36,
     "metadata": {},
     "output_type": "execute_result"
    }
   ],
   "source": [
    "# Let's call items from the dictionary\n",
    "my_dict['key1']"
   ]
  },
  {
   "cell_type": "code",
   "execution_count": 37,
   "id": "be1d4823",
   "metadata": {},
   "outputs": [
    {
     "data": {
      "text/plain": [
       "'item0'"
      ]
     },
     "execution_count": 37,
     "metadata": {},
     "output_type": "execute_result"
    }
   ],
   "source": [
    "# Can call an element from the list at key3 by indexing\n",
    "# Grab item0\n",
    "my_dict['key3'][0]"
   ]
  },
  {
   "cell_type": "code",
   "execution_count": 38,
   "id": "8e602346",
   "metadata": {},
   "outputs": [
    {
     "data": {
      "text/plain": [
       "'ITEM0'"
      ]
     },
     "execution_count": 38,
     "metadata": {},
     "output_type": "execute_result"
    }
   ],
   "source": [
    "# Can then even call lists function on that value ex. upper()\n",
    "my_dict['key3'][0].upper()"
   ]
  },
  {
   "cell_type": "code",
   "execution_count": null,
   "id": "9e098fa8",
   "metadata": {},
   "outputs": [],
   "source": [
    "# Chek key1 value\n",
    "my_dict['key1']"
   ]
  },
  {
   "cell_type": "code",
   "execution_count": 32,
   "id": "e1bbeeb8",
   "metadata": {},
   "outputs": [],
   "source": [
    "# Subtract 123 from the key1 value\n",
    "my_dict['key1'] = "
   ]
  },
  {
   "cell_type": "code",
   "execution_count": 33,
   "id": "bcd21ce6",
   "metadata": {},
   "outputs": [
    {
     "data": {
      "text/plain": [
       "0"
      ]
     },
     "execution_count": 33,
     "metadata": {},
     "output_type": "execute_result"
    }
   ],
   "source": [
    "#Check\n",
    "my_dict['key1']"
   ]
  },
  {
   "cell_type": "code",
   "execution_count": 93,
   "id": "c5e35d61",
   "metadata": {},
   "outputs": [],
   "source": [
    "# Create a new empty dictionary\n",
    "data = {}"
   ]
  },
  {
   "cell_type": "code",
   "execution_count": 94,
   "id": "5e718ab9",
   "metadata": {},
   "outputs": [],
   "source": [
    "# Add: key: animal , value: dog to (data)\n"
   ]
  },
  {
   "cell_type": "code",
   "execution_count": 95,
   "id": "49e9bbff",
   "metadata": {},
   "outputs": [],
   "source": [
    "# Add another object to (data) key: color, value: white\n"
   ]
  },
  {
   "cell_type": "code",
   "execution_count": 96,
   "id": "365787d2",
   "metadata": {},
   "outputs": [
    {
     "data": {
      "text/plain": [
       "{}"
      ]
     },
     "execution_count": 96,
     "metadata": {},
     "output_type": "execute_result"
    }
   ],
   "source": [
    "# Now check (data)\n",
    "data"
   ]
  },
  {
   "cell_type": "markdown",
   "id": "98a73fe0",
   "metadata": {},
   "source": [
    "### Nested Dictionaries "
   ]
  },
  {
   "cell_type": "code",
   "execution_count": 39,
   "id": "99a49249",
   "metadata": {},
   "outputs": [],
   "source": [
    "# Dictionary nested inside a dictionary nested inside a dictionary\n",
    "d = {'key1':{'key2':{'key3':'value'}}}"
   ]
  },
  {
   "cell_type": "code",
   "execution_count": 40,
   "id": "1a7187d9",
   "metadata": {},
   "outputs": [
    {
     "data": {
      "text/plain": [
       "'value'"
      ]
     },
     "execution_count": 40,
     "metadata": {},
     "output_type": "execute_result"
    }
   ],
   "source": [
    "# Keep calling the keys\n"
   ]
  },
  {
   "cell_type": "markdown",
   "id": "e0a72110",
   "metadata": {},
   "source": [
    "### Dictionary Methods"
   ]
  },
  {
   "cell_type": "code",
   "execution_count": 41,
   "id": "22785bbd",
   "metadata": {},
   "outputs": [],
   "source": [
    "# Create a typical dictionary\n",
    "d = {'key1':1,'key2':2,'key3':3}"
   ]
  },
  {
   "cell_type": "code",
   "execution_count": 42,
   "id": "074529e8",
   "metadata": {},
   "outputs": [
    {
     "data": {
      "text/plain": [
       "dict_keys(['key1', 'key2', 'key3'])"
      ]
     },
     "execution_count": 42,
     "metadata": {},
     "output_type": "execute_result"
    }
   ],
   "source": [
    "# Method to return a list of all keys \n"
   ]
  },
  {
   "cell_type": "code",
   "execution_count": 46,
   "id": "89b485cf",
   "metadata": {},
   "outputs": [
    {
     "data": {
      "text/plain": [
       "dict_values([1, 2, 3])"
      ]
     },
     "execution_count": 46,
     "metadata": {},
     "output_type": "execute_result"
    }
   ],
   "source": [
    "# Method to grab all values\n"
   ]
  },
  {
   "cell_type": "markdown",
   "id": "e5660651",
   "metadata": {},
   "source": [
    "## Sets { }"
   ]
  },
  {
   "cell_type": "code",
   "execution_count": 12,
   "id": "eb1b4be7",
   "metadata": {},
   "outputs": [],
   "source": [
    "x = set()"
   ]
  },
  {
   "cell_type": "code",
   "execution_count": 20,
   "id": "9fc3b5c8",
   "metadata": {},
   "outputs": [],
   "source": [
    "# We add to sets with the add() method\n",
    "x.add(1)"
   ]
  },
  {
   "cell_type": "code",
   "execution_count": 21,
   "id": "fda48b6c",
   "metadata": {},
   "outputs": [
    {
     "data": {
      "text/plain": [
       "{1}"
      ]
     },
     "execution_count": 21,
     "metadata": {},
     "output_type": "execute_result"
    }
   ],
   "source": [
    "#Show\n",
    "x"
   ]
  },
  {
   "cell_type": "code",
   "execution_count": 15,
   "id": "e0cb3050",
   "metadata": {},
   "outputs": [],
   "source": [
    "# Add a different element\n"
   ]
  },
  {
   "cell_type": "code",
   "execution_count": 16,
   "id": "0e88ceae",
   "metadata": {},
   "outputs": [
    {
     "data": {
      "text/plain": [
       "{1, 2}"
      ]
     },
     "execution_count": 16,
     "metadata": {},
     "output_type": "execute_result"
    }
   ],
   "source": [
    "x"
   ]
  },
  {
   "cell_type": "code",
   "execution_count": 52,
   "id": "46b04047",
   "metadata": {},
   "outputs": [],
   "source": [
    "# Try to add 1 again\n"
   ]
  },
  {
   "cell_type": "code",
   "execution_count": 53,
   "id": "21ec5089",
   "metadata": {},
   "outputs": [
    {
     "data": {
      "text/plain": [
       "{1, 2}"
      ]
     },
     "execution_count": 53,
     "metadata": {},
     "output_type": "execute_result"
    }
   ],
   "source": [
    "# Check\n",
    "x"
   ]
  },
  {
   "cell_type": "code",
   "execution_count": 54,
   "id": "5a34bdd7",
   "metadata": {},
   "outputs": [],
   "source": [
    "# Create a list with repeats\n",
    "list1 = [1,1,2,2,3,4,5,6,1,1]"
   ]
  },
  {
   "cell_type": "code",
   "execution_count": 55,
   "id": "4c18c47d",
   "metadata": {},
   "outputs": [
    {
     "data": {
      "text/plain": [
       "{1, 2, 3, 4, 5, 6}"
      ]
     },
     "execution_count": 55,
     "metadata": {},
     "output_type": "execute_result"
    }
   ],
   "source": [
    "# Cast as set to get unique values\n"
   ]
  }
 ],
 "metadata": {
  "kernelspec": {
   "display_name": "Python 3",
   "language": "python",
   "name": "python3"
  },
  "language_info": {
   "codemirror_mode": {
    "name": "ipython",
    "version": 3
   },
   "file_extension": ".py",
   "mimetype": "text/x-python",
   "name": "python",
   "nbconvert_exporter": "python",
   "pygments_lexer": "ipython3",
   "version": "3.8.8"
  }
 },
 "nbformat": 4,
 "nbformat_minor": 5
}
