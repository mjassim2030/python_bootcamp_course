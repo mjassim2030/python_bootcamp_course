{
 "cells": [
  {
   "cell_type": "markdown",
   "id": "e3e4528e",
   "metadata": {},
   "source": [
    "# Quiz 1"
   ]
  },
  {
   "cell_type": "markdown",
   "id": "2c799c9d",
   "metadata": {},
   "source": [
    "### Numbers\n",
    "Write an equation that uses multiplication, division, an exponent, addition, and subtraction that is equal to **`120.25`**."
   ]
  },
  {
   "cell_type": "code",
   "execution_count": null,
   "id": "385085ea",
   "metadata": {},
   "outputs": [],
   "source": []
  },
  {
   "cell_type": "markdown",
   "id": "9a0d9021",
   "metadata": {},
   "source": [
    "What is the *`type`* of the result of the expression 3 + 1.5 + 4?<br><br>"
   ]
  },
  {
   "cell_type": "code",
   "execution_count": null,
   "id": "0210f275",
   "metadata": {},
   "outputs": [],
   "source": []
  },
  {
   "cell_type": "markdown",
   "id": "ccf88448",
   "metadata": {},
   "source": [
    "What would you use to find a number’s square root, as well as its square? "
   ]
  },
  {
   "cell_type": "code",
   "execution_count": null,
   "id": "ce96baa9",
   "metadata": {},
   "outputs": [],
   "source": [
    "# Square root:\n"
   ]
  },
  {
   "cell_type": "code",
   "execution_count": 2,
   "id": "a244badc",
   "metadata": {},
   "outputs": [],
   "source": [
    "# 2 to the power of 10:\n"
   ]
  },
  {
   "cell_type": "markdown",
   "id": "34af8351",
   "metadata": {},
   "source": [
    "### Indexing & Slicing"
   ]
  },
  {
   "cell_type": "code",
   "execution_count": null,
   "id": "1a9b8efa",
   "metadata": {},
   "outputs": [],
   "source": [
    "s = 'hello'\n",
    "# Print out 'e' using indexing\n"
   ]
  },
  {
   "cell_type": "code",
   "execution_count": 1,
   "id": "4039ae54",
   "metadata": {},
   "outputs": [],
   "source": [
    "s ='hello'\n",
    "# Reverse the string using slicing\n"
   ]
  },
  {
   "cell_type": "markdown",
   "id": "ac94faa5",
   "metadata": {},
   "source": [
    "### Lists\n",
    "How many days are in a particular month based on the value of the variable **`month`**? \n",
    "* **Remeber**, indexing starts with zero"
   ]
  },
  {
   "cell_type": "code",
   "execution_count": 5,
   "id": "aaff86bb",
   "metadata": {},
   "outputs": [
    {
     "ename": "SyntaxError",
     "evalue": "invalid syntax (<ipython-input-5-903197cd19e4>, line 5)",
     "output_type": "error",
     "traceback": [
      "\u001b[1;36m  File \u001b[1;32m\"<ipython-input-5-903197cd19e4>\"\u001b[1;36m, line \u001b[1;32m5\u001b[0m\n\u001b[1;33m    num_days =\u001b[0m\n\u001b[1;37m               ^\u001b[0m\n\u001b[1;31mSyntaxError\u001b[0m\u001b[1;31m:\u001b[0m invalid syntax\n"
     ]
    }
   ],
   "source": [
    "month = 8\n",
    "days_in_month = [31,28,31,30,31,30,31,31,30,31,30,31]\n",
    "\n",
    "# use list indexing to determine the number of days in month\n",
    "num_days = \n",
    "\n",
    "# print num_days\n"
   ]
  },
  {
   "cell_type": "markdown",
   "id": "afe844b0",
   "metadata": {},
   "source": [
    "### Dictionary\n",
    "Define a Dictionary `population`, that provides information on the world's largest cities.\n",
    "\n",
    "Key: Is the name of a city (a string)\n",
    "Value: Is its population in millions of people.\n",
    "\n",
    "|City|Population (Million)|\n",
    "|:---|:---:|\n",
    "|Shanghai|17.8|\n",
    "|Istanbul|13.3|\n",
    "|Karachi|13.0|\n",
    "|Mumbai|12.5|"
   ]
  },
  {
   "cell_type": "code",
   "execution_count": null,
   "id": "07ff9a50",
   "metadata": {},
   "outputs": [],
   "source": [
    "population = \n",
    "population"
   ]
  },
  {
   "cell_type": "markdown",
   "id": "4ff915a7",
   "metadata": {},
   "source": [
    "1) Grab `Hello` in from the below dictionaries"
   ]
  },
  {
   "cell_type": "code",
   "execution_count": 3,
   "id": "56298b76",
   "metadata": {},
   "outputs": [],
   "source": [
    "d = {'k1':'hello'}\n",
    "# Grab 'hello'\n"
   ]
  },
  {
   "cell_type": "code",
   "execution_count": 4,
   "id": "89204138",
   "metadata": {},
   "outputs": [],
   "source": [
    "d = {'k1':{'k2':'hello'}}\n",
    "# Grab 'hello'\n"
   ]
  },
  {
   "cell_type": "code",
   "execution_count": 5,
   "id": "2de191ea",
   "metadata": {},
   "outputs": [],
   "source": [
    "# Getting a little tricker\n",
    "d = {'k1':[{'k2':['k3',['hello']]}]}\n",
    "\n",
    "#Grab hello\n",
    "\n"
   ]
  },
  {
   "cell_type": "code",
   "execution_count": 12,
   "id": "bad44bb7",
   "metadata": {},
   "outputs": [],
   "source": [
    "# This will be hard and annoying!\n",
    "d = {'k1':[1,2,{'k2':['k3',{'k4':[1,2,['hello']]}]}]}\n",
    "\n"
   ]
  }
 ],
 "metadata": {
  "kernelspec": {
   "display_name": "Python 3",
   "language": "python",
   "name": "python3"
  },
  "language_info": {
   "codemirror_mode": {
    "name": "ipython",
    "version": 3
   },
   "file_extension": ".py",
   "mimetype": "text/x-python",
   "name": "python",
   "nbconvert_exporter": "python",
   "pygments_lexer": "ipython3",
   "version": "3.8.8"
  }
 },
 "nbformat": 4,
 "nbformat_minor": 5
}
